{
  "nbformat": 4,
  "nbformat_minor": 0,
  "metadata": {
    "colab": {
      "provenance": [],
      "gpuType": "T4",
      "authorship_tag": "ABX9TyMO1jjLbmDPSpOJwLcT5MiZ",
      "include_colab_link": true
    },
    "kernelspec": {
      "name": "python3",
      "display_name": "Python 3"
    },
    "language_info": {
      "name": "python"
    },
    "accelerator": "GPU"
  },
  "cells": [
    {
      "cell_type": "markdown",
      "metadata": {
        "id": "view-in-github",
        "colab_type": "text"
      },
      "source": [
        "<a href=\"https://colab.research.google.com/github/softmurata/generative-ai-handsbook/blob/main/investigation/fooocus/Foooocus.ipynb\" target=\"_parent\"><img src=\"https://colab.research.google.com/assets/colab-badge.svg\" alt=\"Open In Colab\"/></a>"
      ]
    },
    {
      "cell_type": "markdown",
      "source": [
        "Installation"
      ],
      "metadata": {
        "id": "CpO9iylbiujj"
      }
    },
    {
      "cell_type": "code",
      "execution_count": null,
      "metadata": {
        "id": "_7RQDm4qinV7"
      },
      "outputs": [],
      "source": [
        "%cd /content\n",
        "!git clone https://github.com/lllyasviel/Fooocus\n",
        "%cd /content/Fooocus\n",
        "!pip install pygit2==1.12.2"
      ]
    },
    {
      "cell_type": "markdown",
      "source": [
        "Start webUI"
      ],
      "metadata": {
        "id": "c6dAnWI0i03o"
      }
    },
    {
      "cell_type": "code",
      "source": [
        "%cd /content/Fooocus\n",
        "!python3 entry_with_update.py --listen --share"
      ],
      "metadata": {
        "id": "Y8fDjYGRi0d9"
      },
      "execution_count": null,
      "outputs": []
    }
  ]
}