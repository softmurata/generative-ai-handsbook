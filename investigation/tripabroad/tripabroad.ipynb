{
  "nbformat": 4,
  "nbformat_minor": 0,
  "metadata": {
    "colab": {
      "provenance": [],
      "authorship_tag": "ABX9TyNsPLDINXm3NBtBo9LoMOng",
      "include_colab_link": true
    },
    "kernelspec": {
      "name": "python3",
      "display_name": "Python 3"
    },
    "language_info": {
      "name": "python"
    }
  },
  "cells": [
    {
      "cell_type": "markdown",
      "metadata": {
        "id": "view-in-github",
        "colab_type": "text"
      },
      "source": [
        "<a href=\"https://colab.research.google.com/github/softmurata/generative-ai-handsbook/blob/main/investigation/tripabroad/tripabroad.ipynb\" target=\"_parent\"><img src=\"https://colab.research.google.com/assets/colab-badge.svg\" alt=\"Open In Colab\"/></a>"
      ]
    },
    {
      "cell_type": "markdown",
      "source": [
        "Installation"
      ],
      "metadata": {
        "id": "KIeQ2xZpOSIo"
      }
    },
    {
      "cell_type": "code",
      "execution_count": null,
      "metadata": {
        "id": "vnAuf5uTNKCT"
      },
      "outputs": [],
      "source": [
        "!pip install -q elevenlabs"
      ]
    },
    {
      "cell_type": "markdown",
      "source": [
        "Import Libraries"
      ],
      "metadata": {
        "id": "kZHwNCnXOTKw"
      }
    },
    {
      "cell_type": "code",
      "source": [
        "from elevenlabs import generate\n",
        "from IPython.display import Audio"
      ],
      "metadata": {
        "id": "QzVL65mINhcv"
      },
      "execution_count": 2,
      "outputs": []
    },
    {
      "cell_type": "markdown",
      "source": [
        "Create Audio Test"
      ],
      "metadata": {
        "id": "EZTkOsrXOU0U"
      }
    },
    {
      "cell_type": "code",
      "source": [
        "sf = 44100\n",
        "\n",
        "audio = generate(\n",
        "  text=\"Yes, please remove your shoes and place them in the bin provided.\",\n",
        "  voice=\"Bella\",\n",
        "  model=\"eleven_multilingual_v2\"\n",
        ")\n",
        "\n",
        "Audio(audio,rate=sf)"
      ],
      "metadata": {
        "id": "ahiu_Mj5OOP8"
      },
      "execution_count": null,
      "outputs": []
    },
    {
      "cell_type": "markdown",
      "source": [
        "change voice settings"
      ],
      "metadata": {
        "id": "0k18ZasPVBeI"
      }
    },
    {
      "cell_type": "code",
      "source": [
        "from elevenlabs import Voice, VoiceSettings, generate, save\n",
        "\n",
        "audio = generate(\n",
        "    text=\"Hello! My name is Bella.\",\n",
        "    voice=Voice(\n",
        "        voice_id='EXAVITQu4vr4xnSDxMaL',\n",
        "        settings=VoiceSettings(stability=0.8, similarity_boost=0.5, style=0.5, use_speaker_boost=True)\n",
        "    )\n",
        ")\n",
        "\n",
        "Audio(audio,rate=sf)\n",
        "save(audio, \"output.mp3\")"
      ],
      "metadata": {
        "id": "fLA8UQK6VC0F"
      },
      "execution_count": 19,
      "outputs": []
    },
    {
      "cell_type": "code",
      "source": [
        "# slow output\n",
        "!ffmpeg -i output.mp3 -vf setpts=PTS*2 -af atempo=0.5 output_slow.mp3"
      ],
      "metadata": {
        "id": "CECxGWEDWQs2"
      },
      "execution_count": null,
      "outputs": []
    },
    {
      "cell_type": "code",
      "source": [
        "Audio(\"/content/output_slow.mp3\",rate=sf)"
      ],
      "metadata": {
        "id": "JXswLIoIWoCX"
      },
      "execution_count": null,
      "outputs": []
    },
    {
      "cell_type": "markdown",
      "source": [
        "Create Audio scripts"
      ],
      "metadata": {
        "id": "8LO773UFQk2O"
      }
    },
    {
      "cell_type": "code",
      "source": [
        "from elevenlabs import voices\n",
        "voices = voices()\n",
        "voices[0]"
      ],
      "metadata": {
        "id": "_-3fE_y1SFfX"
      },
      "execution_count": null,
      "outputs": []
    },
    {
      "cell_type": "code",
      "source": [
        "# Docs.mdのDataPreparationを参照\n",
        "# chatgptから会話内容を作成して、それぞれにまとめる\n",
        "Y_list = [\n",
        "    \"Good evening. Could you recommend any specialties of the house?\",\n",
        "    \"That sounds great. I'll go with the seafood paella, please. And may I have a glass of red wine to go with it?\",\n",
        "    \"No, that should be it for now, thank you.\",\n",
        "    \"The paella was delicious, thank you. Could you please bring the check?\",\n",
        "    \"No, everything was perfect, thank you. By the way, are there any interesting places around here that you would recommend visiting?\"\n",
        "]\n",
        "\n",
        "W_list = [\n",
        "    \"Of course! Our chef's specials tonight are the seafood paella and the grilled sirloin steak. They are both highly recommended.\",\n",
        "    \"Excellent choice! A glass of red wine with the seafood paella it is. Anything else for you?\",\n",
        "     \"How was your meal? Is there anything else I can get for you?\",\n",
        "    \"Of course. I'll bring it right away.\",\n",
        "    \"Certainly! If you're interested in local history, there's a museum just a few blocks away, and the waterfront promenade is also quite beautiful in the evening.\",\n",
        "    \"You're welcome. Enjoy the rest of your evening!\"\n",
        "]\n",
        "\n",
        "# ToDo: 年齢とか、性別とかそういう要素で判定できるようにする\n",
        "Y_voice = \"Clyde\"\n",
        "W_voice = \"Rachel\""
      ],
      "metadata": {
        "id": "6DN389kyQnAx"
      },
      "execution_count": 7,
      "outputs": []
    },
    {
      "cell_type": "code",
      "source": [
        "audios = []\n",
        "\n",
        "for yl, wl in zip(Y_list, W_list):\n",
        "\n",
        "  y_audio = generate(\n",
        "    text=yl,\n",
        "    voice=Y_voice,\n",
        "    model=\"eleven_multilingual_v2\"\n",
        "  )\n",
        "  w_audio = generate(\n",
        "    text=wl,\n",
        "    voice=W_voice,\n",
        "    model=\"eleven_multilingual_v2\"\n",
        "  )\n",
        "\n",
        "  audios.append(y_audio)\n",
        "  audios.append(w_audio)"
      ],
      "metadata": {
        "id": "bEBN9CMfSleg"
      },
      "execution_count": 8,
      "outputs": []
    },
    {
      "cell_type": "code",
      "source": [
        "sf = 44100\n",
        "all_audio = audios[0]\n",
        "for a in audios[1:]:\n",
        "  all_audio += a\n",
        "Audio(all_audio,rate=sf)"
      ],
      "metadata": {
        "id": "uVE0KOvATDew"
      },
      "execution_count": null,
      "outputs": []
    },
    {
      "cell_type": "markdown",
      "source": [
        "Create audio with slow speed"
      ],
      "metadata": {
        "id": "SA4Z58HGWu2W"
      }
    },
    {
      "cell_type": "code",
      "source": [
        "# Authentication周りについては以下\n",
        "# https://docs.elevenlabs.io/api-reference/quick-start/authentication\n",
        "from elevenlabs import set_api_key\n",
        "set_api_key(\"58fac52259018f41bacc6030970ca620\")"
      ],
      "metadata": {
        "id": "k-YSLa6NY3ye"
      },
      "execution_count": 24,
      "outputs": []
    },
    {
      "cell_type": "code",
      "source": [
        "audios = []\n",
        "\n",
        "tempo = 0.8\n",
        "\n",
        "for idx, (yl, wl) in enumerate(zip(Y_list, W_list)):\n",
        "\n",
        "  y_audio = generate(\n",
        "    text=yl,\n",
        "    voice=Y_voice,\n",
        "    model=\"eleven_multilingual_v2\"\n",
        "  )\n",
        "  w_audio = generate(\n",
        "    text=wl,\n",
        "    voice=W_voice,\n",
        "    model=\"eleven_multilingual_v2\"\n",
        "  )\n",
        "\n",
        "  y_audio_path = f\"y_{idx}.mp3\"\n",
        "  y_slow_audio_path = f\"y_{idx}_slow.mp3\"\n",
        "  save(y_audio, y_audio_path)\n",
        "\n",
        "  # slow output\n",
        "  !ffmpeg -i $y_audio_path -vf setpts=PTS*2 -af atempo=$tempo $y_slow_audio_path\n",
        "\n",
        "  audios.append(y_slow_audio_path)\n",
        "\n",
        "  w_audio_path = f\"w_{idx}.mp3\"\n",
        "  w_slow_audio_path = f\"w_{idx}_slow.mp3\"\n",
        "  save(w_audio, w_audio_path)\n",
        "\n",
        "  # slow output\n",
        "  !ffmpeg -i $w_audio_path -vf setpts=PTS*2 -af atempo=$tempo $w_slow_audio_path\n",
        "\n",
        "  audios.append(w_slow_audio_path)"
      ],
      "metadata": {
        "id": "yR4JLh7DWuVs"
      },
      "execution_count": null,
      "outputs": []
    },
    {
      "cell_type": "markdown",
      "source": [
        "Concatenate audio"
      ],
      "metadata": {
        "id": "BJYorX2PZVA2"
      }
    },
    {
      "cell_type": "code",
      "source": [
        "!pip install pydub"
      ],
      "metadata": {
        "id": "N_optdI9ZTMX"
      },
      "execution_count": null,
      "outputs": []
    },
    {
      "cell_type": "code",
      "source": [
        "from pydub import AudioSegment\n",
        " # enter the path of your audio file\n",
        "\n",
        "sounds = AudioSegment.from_mp3(audios[0])\n",
        "\n",
        "for a in audios[1:]:\n",
        "  target_sound = AudioSegment.from_mp3(a)\n",
        "  sounds += target_sound\n",
        "\n",
        "sounds.export(\"output.wav\", format=\"wav\")\n",
        "\n",
        "display(Audio(\"output.wav\"))"
      ],
      "metadata": {
        "id": "GuD2mLAkZUf5"
      },
      "execution_count": null,
      "outputs": []
    }
  ]
}