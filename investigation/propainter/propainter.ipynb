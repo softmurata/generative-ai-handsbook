{
  "nbformat": 4,
  "nbformat_minor": 0,
  "metadata": {
    "colab": {
      "provenance": [],
      "gpuType": "T4",
      "authorship_tag": "ABX9TyNGihAJfUtCn53iibc3ZV/Z",
      "include_colab_link": true
    },
    "kernelspec": {
      "name": "python3",
      "display_name": "Python 3"
    },
    "language_info": {
      "name": "python"
    },
    "accelerator": "GPU"
  },
  "cells": [
    {
      "cell_type": "markdown",
      "metadata": {
        "id": "view-in-github",
        "colab_type": "text"
      },
      "source": [
        "<a href=\"https://colab.research.google.com/github/softmurata/generative-ai-handsbook/blob/main/investigation/propainter/propainter.ipynb\" target=\"_parent\"><img src=\"https://colab.research.google.com/assets/colab-badge.svg\" alt=\"Open In Colab\"/></a>"
      ]
    },
    {
      "cell_type": "markdown",
      "source": [
        "Installation"
      ],
      "metadata": {
        "id": "eH0UtJV6KxM_"
      }
    },
    {
      "cell_type": "code",
      "execution_count": null,
      "metadata": {
        "id": "sCMg1Di1JBwu"
      },
      "outputs": [],
      "source": [
        "!git clone https://github.com/sczhou/ProPainter.git"
      ]
    },
    {
      "cell_type": "code",
      "source": [
        "!pip install -U openmim\n",
        "!mim install mmcv\n",
        "!pip install einops"
      ],
      "metadata": {
        "id": "AGazYQY5J9z7"
      },
      "execution_count": null,
      "outputs": []
    },
    {
      "cell_type": "markdown",
      "source": [
        "Download Pretrained weights"
      ],
      "metadata": {
        "id": "pQBJzyrSKzBY"
      }
    },
    {
      "cell_type": "code",
      "source": [
        "!wget https://github.com/sczhou/ProPainter/releases/download/v0.1.0/i3d_rgb_imagenet.pt -P /content/ProPainter/weights\n",
        "!wget https://github.com/sczhou/ProPainter/releases/download/v0.1.0/ProPainter.pth -P /content/ProPainter/weights\n",
        "!wget https://github.com/sczhou/ProPainter/releases/download/v0.1.0/raft-things.pth -P /content/ProPainter/weights\n",
        "!wget https://github.com/sczhou/ProPainter/releases/download/v0.1.0/recurrent_flow_completion.pth -P /content/ProPainter/weights"
      ],
      "metadata": {
        "id": "XIQDXHPVJNz0"
      },
      "execution_count": null,
      "outputs": []
    },
    {
      "cell_type": "markdown",
      "source": [
        "Inference with object removal"
      ],
      "metadata": {
        "id": "fXErtUjqLXO7"
      }
    },
    {
      "cell_type": "code",
      "source": [
        "%cd /content/ProPainter\n",
        "# The first example (object removal)\n",
        "!python inference_propainter.py --video inputs/object_removal/bmx-trees --mask inputs/object_removal/bmx-trees_mask"
      ],
      "metadata": {
        "id": "nGWpLFK_JwS1"
      },
      "execution_count": null,
      "outputs": []
    },
    {
      "cell_type": "markdown",
      "source": [
        "display videos"
      ],
      "metadata": {
        "id": "fadj9kxILgwY"
      }
    },
    {
      "cell_type": "code",
      "source": [
        "from IPython.display import HTML\n",
        "from base64 import b64encode\n",
        "\n",
        "mp4 = open('/content/ProPainter/results/bmx-trees/inpaint_out.mp4', 'rb').read()\n",
        "data_url = 'data:video/mp4;base64,' + b64encode(mp4).decode()\n",
        "HTML(f\"\"\"\n",
        "<video width=\"100%\" height=\"100%\" controls>\n",
        "      <source src=\"{data_url}\" type=\"video/mp4\">\n",
        "</video>\"\"\")"
      ],
      "metadata": {
        "id": "u8DdNv1zLgU2"
      },
      "execution_count": null,
      "outputs": []
    },
    {
      "cell_type": "markdown",
      "source": [
        "inference with watermark removal"
      ],
      "metadata": {
        "id": "Ia1GFblfMAWA"
      }
    },
    {
      "cell_type": "code",
      "source": [
        "!pip install av"
      ],
      "metadata": {
        "id": "FI9ceVhIMbLI"
      },
      "execution_count": null,
      "outputs": []
    },
    {
      "cell_type": "code",
      "source": [
        "%cd /content/ProPainter\n",
        "# The second example (watermark removal)\n",
        "!python inference_propainter.py --video inputs/watermark_removal/running_car.mp4 --mask inputs/watermark_removal/mask.png"
      ],
      "metadata": {
        "id": "mhPOzpmyMCsf"
      },
      "execution_count": null,
      "outputs": []
    },
    {
      "cell_type": "code",
      "source": [
        "from IPython.display import HTML\n",
        "from base64 import b64encode\n",
        "\n",
        "mp4 = open('/content/ProPainter/results/running_car/masked_in.mp4', 'rb').read()\n",
        "data_url = 'data:video/mp4;base64,' + b64encode(mp4).decode()\n",
        "HTML(f\"\"\"\n",
        "<video width=\"100%\" height=\"100%\" controls>\n",
        "      <source src=\"{data_url}\" type=\"video/mp4\">\n",
        "</video>\"\"\")"
      ],
      "metadata": {
        "id": "fZS1NrYhMVGR"
      },
      "execution_count": null,
      "outputs": []
    }
  ]
}