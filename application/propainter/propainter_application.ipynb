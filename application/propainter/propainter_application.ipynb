{
  "nbformat": 4,
  "nbformat_minor": 0,
  "metadata": {
    "colab": {
      "provenance": [],
      "gpuType": "T4",
      "authorship_tag": "ABX9TyPKYuv32LM3MlyC7EHHDree",
      "include_colab_link": true
    },
    "kernelspec": {
      "name": "python3",
      "display_name": "Python 3"
    },
    "language_info": {
      "name": "python"
    },
    "accelerator": "GPU"
  },
  "cells": [
    {
      "cell_type": "markdown",
      "metadata": {
        "id": "view-in-github",
        "colab_type": "text"
      },
      "source": [
        "<a href=\"https://colab.research.google.com/github/softmurata/generative-ai-handsbook/blob/main/application/propainter/propainter_application.ipynb\" target=\"_parent\"><img src=\"https://colab.research.google.com/assets/colab-badge.svg\" alt=\"Open In Colab\"/></a>"
      ]
    },
    {
      "cell_type": "markdown",
      "source": [
        "Installation"
      ],
      "metadata": {
        "id": "U8uLfQiZSrkF"
      }
    },
    {
      "cell_type": "code",
      "execution_count": null,
      "metadata": {
        "id": "2ONa8-UISlCV"
      },
      "outputs": [],
      "source": [
        "!git clone https://github.com/sczhou/ProPainter.git\n",
        "\n",
        "!pip install -U openmim\n",
        "!mim install mmcv\n",
        "!pip install einops"
      ]
    },
    {
      "cell_type": "code",
      "source": [
        "!pip install transformers accelerate bitsandbytes"
      ],
      "metadata": {
        "id": "iYCnfTwnS463"
      },
      "execution_count": null,
      "outputs": []
    },
    {
      "cell_type": "markdown",
      "source": [
        "Download pretrained models"
      ],
      "metadata": {
        "id": "JybmU17_Suyl"
      }
    },
    {
      "cell_type": "code",
      "source": [
        "!wget https://github.com/sczhou/ProPainter/releases/download/v0.1.0/i3d_rgb_imagenet.pt -P /content/ProPainter/weights\n",
        "!wget https://github.com/sczhou/ProPainter/releases/download/v0.1.0/ProPainter.pth -P /content/ProPainter/weights\n",
        "!wget https://github.com/sczhou/ProPainter/releases/download/v0.1.0/raft-things.pth -P /content/ProPainter/weights\n",
        "!wget https://github.com/sczhou/ProPainter/releases/download/v0.1.0/recurrent_flow_completion.pth -P /content/ProPainter/weights"
      ],
      "metadata": {
        "id": "X5zY-8vKSwb5"
      },
      "execution_count": null,
      "outputs": []
    },
    {
      "cell_type": "markdown",
      "source": [
        "Prepare"
      ],
      "metadata": {
        "id": "NAM8hJiUgGoe"
      }
    },
    {
      "cell_type": "code",
      "source": [
        "# please upload inference_with_image.py in ProPainter directory"
      ],
      "metadata": {
        "id": "y_yvH6HSgHoP"
      },
      "execution_count": null,
      "outputs": []
    },
    {
      "cell_type": "markdown",
      "source": [
        "Inference with oneformer with room"
      ],
      "metadata": {
        "id": "q0lkj_Ugaq3B"
      }
    },
    {
      "cell_type": "code",
      "source": [
        "import os\n",
        "project_name = \"room\"\n",
        "os.makedirs(f\"/content/ProPainter/inputs/object_removal/{project_name}\", exist_ok=True)\n",
        "os.makedirs(f\"/content/ProPainter/inputs/object_removal/{project_name}_mask\", exist_ok=True)\n",
        "\n",
        "import torch\n",
        "from PIL import Image\n",
        "from transformers import AutoProcessor\n",
        "\n",
        "from transformers import AutoModelForUniversalSegmentation\n",
        "\n",
        "model_id = \"shi-labs/oneformer_ade20k_swin_large\"\n",
        "model = AutoModelForUniversalSegmentation.from_pretrained(model_id)\n",
        "processor = AutoProcessor.from_pretrained(model_id)"
      ],
      "metadata": {
        "id": "ODCa2eO9atCA"
      },
      "execution_count": null,
      "outputs": []
    },
    {
      "cell_type": "code",
      "source": [
        "image = Image.open(\"/content/ProPainter/inputs/object_removal/room/room002.jpeg\")\n",
        "\n",
        "semantic_inputs = processor(images=image, task_inputs=[\"semantic\"], return_tensors=\"pt\")\n",
        "\n",
        "# forward pass\n",
        "with torch.no_grad():\n",
        "  outputs = model(**semantic_inputs)\n",
        "\n",
        "semantic_segmentation = processor.post_process_semantic_segmentation(outputs)[0]"
      ],
      "metadata": {
        "id": "Iyia1PpfbwFl"
      },
      "execution_count": null,
      "outputs": []
    },
    {
      "cell_type": "code",
      "source": [
        "print(model.config.label2id.keys())"
      ],
      "metadata": {
        "colab": {
          "base_uri": "https://localhost:8080/"
        },
        "id": "QeDSBzskcK4y",
        "outputId": "7c578717-9abe-4767-8cb7-862134d5cacf"
      },
      "execution_count": 3,
      "outputs": [
        {
          "output_type": "stream",
          "name": "stdout",
          "text": [
            "dict_keys(['animal', 'arcade machine', 'armchair', 'awning, sunshade, sunblind', 'bag', 'ball', 'bannister, banister, balustrade, balusters, handrail', 'bar', 'barrel, cask', 'base, pedestal, stand', 'basket, handbasket', 'bed', 'bench', 'bicycle', 'blanket, cover', 'blind, screen', 'boat', 'book', 'bookcase', 'booth', 'bottle', 'box', 'bridge, span', 'buffet, counter, sideboard', 'building', 'bulletin board', 'bus', 'cabinet', 'canopy', 'car', 'case, display case, showcase, vitrine', 'ceiling', 'chair', 'chandelier', 'chest of drawers, chest, bureau, dresser', 'clock', 'clothes', 'coffee table', 'column, pillar', 'computer', 'conveyer belt, conveyor belt, conveyer, conveyor, transporter', 'counter', 'countertop', 'cradle', 'crt screen', 'curtain', 'cushion', 'desk', 'dirt track', 'dishwasher', 'door', 'earth, ground', 'escalator, moving staircase, moving stairway', 'falls', 'fan', 'fence', 'field', 'fireplace', 'flag', 'floor', 'flower', 'food, solid food', 'fountain', 'glass, drinking glass', 'grandstand, covered stand', 'grass', 'hill', 'hood, exhaust hood', 'house', 'hovel, hut, hutch, shack, shanty', 'kitchen island', 'lake', 'lamp', 'land, ground, soil', 'light', 'microwave', 'minibike, motorbike', 'mirror', 'monitor', 'mountain, mount', 'ottoman, pouf, pouffe, puff, hassock', 'oven', 'painting, picture', 'palm, palm tree', 'path', 'person', 'pier', 'pillow', 'plane', 'plant', 'plate', 'plaything, toy', 'pole', 'pool', 'pool table, billiard table, snooker table', 'poster, posting, placard, notice, bill, card', 'pot', 'radiator', 'rail', 'refrigerator, icebox', 'river', 'road, route', 'rock, stone', 'rug', 'runway', 'sand', 'sconce', 'screen', 'screen door, screen', 'sculpture', 'sea', 'seat', 'shelf', 'ship', 'shower', 'sidewalk, pavement', 'signboard, sign', 'sink', 'sky', 'skyscraper', 'sofa', 'stage', 'stairs', 'stairway, staircase', 'step, stair', 'stool', 'stove', 'street lamp', 'swivel chair', 'table', 'tank, storage tank', 'tent', 'toilet, can, commode, crapper, pot, potty, stool, throne', 'towel', 'tower', 'trade name', 'traffic light', 'trash can', 'tray', 'tree', 'truck', 'tub', 'tv', 'van', 'vase', 'wall', 'wardrobe, closet, press', 'washer, automatic washer, washing machine', 'water', 'window '])\n"
          ]
        }
      ]
    },
    {
      "cell_type": "code",
      "source": [
        "import numpy as np\n",
        "target_lists = [\"chair\"]\n",
        "target_label_ids = [model.config.label2id[l] for l in target_lists]\n",
        "answer_map = np.zeros_like(semantic_segmentation).astype(np.uint8)\n",
        "for target_label_id in target_label_ids:\n",
        "  target_segmentation_map = np.where(semantic_segmentation == target_label_id, 255, 0)\n",
        "  answer_map += target_segmentation_map.astype(np.uint8)\n",
        "\n",
        "display(Image.fromarray(answer_map))\n",
        "Image.fromarray(answer_map).save(\"/content/ProPainter/inputs/object_removal/room_mask/room002.jpeg\")"
      ],
      "metadata": {
        "id": "U5KgYDfgb_-N"
      },
      "execution_count": null,
      "outputs": []
    },
    {
      "cell_type": "code",
      "source": [
        "!cp /content/ProPainter/inputs/object_removal/room_mask/room002.jpeg /content/ProPainter/inputs/object_removal/room_mask/room003.jpeg\n",
        "!cp /content/ProPainter/inputs/object_removal/room/room002.jpeg /content/ProPainter/inputs/object_removal/room/room003.jpeg"
      ],
      "metadata": {
        "id": "HeqkpzPadu6k"
      },
      "execution_count": 16,
      "outputs": []
    },
    {
      "cell_type": "code",
      "source": [
        "%cd /content/ProPainter\n",
        "!python inference_with_image.py --video inputs/object_removal/room --mask inputs/object_removal/room_mask"
      ],
      "metadata": {
        "id": "f1leMIPvd685"
      },
      "execution_count": null,
      "outputs": []
    },
    {
      "cell_type": "code",
      "source": [
        "display(Image.open(\"/content/ProPainter/results/room/out.jpg\"))"
      ],
      "metadata": {
        "id": "TcwZWiqyeAnH"
      },
      "execution_count": null,
      "outputs": []
    },
    {
      "cell_type": "markdown",
      "source": [
        "Inference with oneformer for test"
      ],
      "metadata": {
        "id": "_5IQAfieSz-Y"
      }
    },
    {
      "cell_type": "code",
      "source": [
        "!cp /content/ProPainter/inputs/object_removal/bmx-trees/00003.jpg /content/ProPainter/inputs/object_removal/test/"
      ],
      "metadata": {
        "id": "yP8rFH42YDYI"
      },
      "execution_count": 16,
      "outputs": []
    },
    {
      "cell_type": "code",
      "source": [
        "import torch\n",
        "from PIL import Image\n",
        "from transformers import AutoProcessor\n",
        "\n",
        "from transformers import AutoModelForUniversalSegmentation\n",
        "\n",
        "model_id = \"shi-labs/oneformer_coco_swin_large\"\n",
        "model = AutoModelForUniversalSegmentation.from_pretrained(model_id)\n",
        "processor = AutoProcessor.from_pretrained(model_id)"
      ],
      "metadata": {
        "id": "sS1B_18PUVGx"
      },
      "execution_count": null,
      "outputs": []
    },
    {
      "cell_type": "code",
      "source": [
        "image = Image.open(\"/content/ProPainter/inputs/object_removal/test/00003.jpg\")"
      ],
      "metadata": {
        "id": "e9TdBX8hVWxH"
      },
      "execution_count": 17,
      "outputs": []
    },
    {
      "cell_type": "code",
      "source": [
        "semantic_inputs = processor(images=image, task_inputs=[\"semantic\"], return_tensors=\"pt\")\n",
        "\n",
        "# forward pass\n",
        "with torch.no_grad():\n",
        "  outputs = model(**semantic_inputs)\n",
        "\n",
        "semantic_segmentation = processor.post_process_semantic_segmentation(outputs)[0]"
      ],
      "metadata": {
        "id": "U6gU3Ny0UvxP"
      },
      "execution_count": 18,
      "outputs": []
    },
    {
      "cell_type": "code",
      "source": [
        "import numpy as np\n",
        "target_lists = [\"person\", \"bicycle\"]\n",
        "target_label_ids = [model.config.label2id[l] for l in target_lists]\n",
        "answer_map = np.zeros_like(semantic_segmentation).astype(np.uint8)\n",
        "for target_label_id in target_label_ids:\n",
        "  target_segmentation_map = np.where(semantic_segmentation == target_label_id, 255, 0)\n",
        "  answer_map += target_segmentation_map.astype(np.uint8)\n",
        "\n",
        "display(Image.fromarray(answer_map))\n",
        "Image.fromarray(answer_map).save(\"/content/ProPainter/inputs/object_removal/test_mask/00003.jpg\")"
      ],
      "metadata": {
        "id": "dDmy7RPRV5kj"
      },
      "execution_count": null,
      "outputs": []
    },
    {
      "cell_type": "code",
      "source": [
        "# 同じ画像を入れてあげることでいける\n",
        "!cp /content/ProPainter/inputs/object_removal/test/00003.jpg /content/ProPainter/inputs/object_removal/test/00004.jpg\n",
        "!cp /content/ProPainter/inputs/object_removal/test_mask/00003.jpg /content/ProPainter/inputs/object_removal/test_mask/00004.jpg"
      ],
      "metadata": {
        "id": "u2OJGHITZEt7"
      },
      "execution_count": 22,
      "outputs": []
    },
    {
      "cell_type": "code",
      "source": [
        "%cd /content/ProPainter\n",
        "!python inference_with_image.py --video inputs/object_removal/test --mask inputs/object_removal/test_mask"
      ],
      "metadata": {
        "id": "yMg7lhKyYTa9"
      },
      "execution_count": null,
      "outputs": []
    },
    {
      "cell_type": "code",
      "source": [
        "display(Image.open(\"/content/ProPainter/results/test/out.jpg\"))"
      ],
      "metadata": {
        "id": "jbFVA2AUaeHC"
      },
      "execution_count": null,
      "outputs": []
    },
    {
      "cell_type": "markdown",
      "source": [
        "Appendix"
      ],
      "metadata": {
        "id": "QlaQI0hTXm-T"
      }
    },
    {
      "cell_type": "code",
      "source": [
        "# draw masks\n",
        "import matplotlib.pyplot as plt\n",
        "import matplotlib.patches as mpatches\n",
        "from matplotlib.colors import ListedColormap, LinearSegmentedColormap\n",
        "from matplotlib import cm\n",
        "\n",
        "\n",
        "def draw_semantic_segmentation(segmentation):\n",
        "    # get the used color map\n",
        "    viridis = cm.get_cmap('viridis', torch.max(segmentation))\n",
        "    # get all the unique numbers\n",
        "    labels_ids = torch.unique(segmentation).tolist()\n",
        "    fig, ax = plt.subplots()\n",
        "    ax.imshow(segmentation)\n",
        "    handles = []\n",
        "    for label_id in labels_ids:\n",
        "        label = model.config.id2label[label_id]\n",
        "        color = viridis(label_id)\n",
        "        handles.append(mpatches.Patch(color=color, label=label))\n",
        "    ax.legend(handles=handles)\n",
        "\n",
        "draw_semantic_segmentation(semantic_segmentation)"
      ],
      "metadata": {
        "id": "T0noe8q3XnzF"
      },
      "execution_count": null,
      "outputs": []
    }
  ]
}